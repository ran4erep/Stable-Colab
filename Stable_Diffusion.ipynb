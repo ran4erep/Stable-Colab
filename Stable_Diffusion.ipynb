{
  "nbformat": 4,
  "nbformat_minor": 0,
  "metadata": {
    "colab": {
      "provenance": [],
      "gpuType": "T4",
      "include_colab_link": true
    },
    "kernelspec": {
      "name": "python3",
      "display_name": "Python 3"
    },
    "language_info": {
      "name": "python"
    },
    "accelerator": "GPU"
  },
  "cells": [
    {
      "cell_type": "markdown",
      "metadata": {
        "id": "view-in-github",
        "colab_type": "text"
      },
      "source": [
        "<a href=\"https://colab.research.google.com/github/ran4erep/Stable-Colab/blob/main/Stable_Diffusion.ipynb\" target=\"_parent\"><img src=\"https://colab.research.google.com/assets/colab-badge.svg\" alt=\"Open In Colab\"/></a>"
      ]
    },
    {
      "cell_type": "markdown",
      "source": [
        "# Подключение к Google Drive:\n",
        "\n",
        "\n",
        "---\n",
        "\n",
        "Если не хотите сохранять все сгенерированные изображения в Google Диск, то значение переменной **use_gdrive** в блоке **\"Работа Stable Diffusion\"** должно быть **False**, а этот блок запускать не нужно."
      ],
      "metadata": {
        "id": "yu2HLW6aGNjp"
      }
    },
    {
      "cell_type": "code",
      "source": [
        "from google.colab import drive\n",
        "drive.mount('/content/gdrive')"
      ],
      "metadata": {
        "id": "GyNHT05gGM4T"
      },
      "execution_count": null,
      "outputs": []
    },
    {
      "cell_type": "markdown",
      "source": [
        "# Установка Stable Diffusion и его зависимостей:"
      ],
      "metadata": {
        "id": "rivLBMwaF6r_"
      }
    },
    {
      "cell_type": "code",
      "execution_count": null,
      "metadata": {
        "id": "ZKe1AR4FFMr9"
      },
      "outputs": [],
      "source": [
        "!pip install diffusers[\"torch\"] transformers\n",
        "!pip install accelerate\n",
        "!pip install git+https://github.com/huggingface/diffusers"
      ]
    },
    {
      "cell_type": "markdown",
      "source": [
        "# Работа Stable Diffusion:"
      ],
      "metadata": {
        "id": "O4pcC6r0G_Tu"
      }
    },
    {
      "cell_type": "markdown",
      "source": [
        "В переменной **current_checkpoint** указываем чекпоинт модель с HuggingFace,  взять её можно на [CivitAI](https://civitai.com/models). При поиске моделей, в фильтре, ставим галочку только на checkpoint.\n",
        "\n",
        "Потом уже заходим на [HuggingFace](https://huggingface.co/models?library=diffusers) и ищем там понравившеюся модель по её названию с CivitAI. Копируем это название и вставляем в значение переменной **current_checkpoint**.\n",
        "\n",
        "Есть [калькулятор разрешений](https://wtools.io/ru/aspect-ratio-calculator), для того чтобы подобрать цифры пропорциональные нужному соотношению сторон."
      ],
      "metadata": {
        "id": "nZVfDep6q7QE"
      }
    },
    {
      "cell_type": "code",
      "source": [
        "#!nvidia-smi - если раскомментировать, то будет показывать информацию о видеокарте\n",
        "import torch\n",
        "import os\n",
        "from google.colab import files\n",
        "from diffusers import StableDiffusionPipeline\n",
        "from diffusers import (\n",
        "    DDPMScheduler,\n",
        "    DDIMScheduler,\n",
        "    PNDMScheduler,\n",
        "    LMSDiscreteScheduler,\n",
        "    EulerAncestralDiscreteScheduler,\n",
        "    EulerDiscreteScheduler,\n",
        "    DPMSolverMultistepScheduler,\n",
        ")\n",
        "from PIL import Image\n",
        "import numpy as np\n",
        "\n",
        "current_checkpoint = \"GraydientPlatformAPI/picx-real\"\n",
        "current_device = \"cuda\" # <-- значение \"cuda\" будет использовать видеокарту для генерации. Значение \"cpu\" будет использовать процессор\n",
        "use_gdrive = False\n",
        "\n",
        "# Список планировщиков\n",
        "ddpm = DDPMScheduler.from_pretrained(current_checkpoint, subfolder=\"scheduler\")\n",
        "ddim = DDIMScheduler.from_pretrained(current_checkpoint, subfolder=\"scheduler\")\n",
        "pndm = PNDMScheduler.from_pretrained(current_checkpoint, subfolder=\"scheduler\")\n",
        "lms = LMSDiscreteScheduler.from_pretrained(current_checkpoint, subfolder=\"scheduler\")\n",
        "euler_anc = EulerAncestralDiscreteScheduler.from_pretrained(current_checkpoint, subfolder=\"scheduler\")\n",
        "euler = EulerDiscreteScheduler.from_pretrained(current_checkpoint, subfolder=\"scheduler\")\n",
        "dpm = DPMSolverMultistepScheduler.from_pretrained(current_checkpoint, subfolder=\"scheduler\")\n",
        "\n",
        "# Настройка пайплайна\n",
        "pipe = StableDiffusionPipeline.from_pretrained(current_checkpoint, torch_dtype=torch.float16)\n",
        "pipe = pipe.to(current_device)\n",
        "pipe.safety_checker = None # Отключение NSFW (18+)\n",
        "pipe.scheduler = euler.from_config(pipe.scheduler.config) # <-- Здесь выбираем планировщик, список в переменных выше\n",
        "\n",
        "# Создаём папку в Google Drive, если её нет\n",
        "if not os.path.exists(\"/content/gdrive/MyDrive/SDOutput\") and use_gdrive:\n",
        "  os.makedirs(\"/content/gdrive/MyDrive/SDOutput\", exist_ok=True)\n",
        "  print(\"Создана папка для автосохранения изображений в Google Drive\")\n",
        "\n",
        "# Здесь указываем переменные для пайплайна Stable Diffusion\n",
        "# Дефолтный промпт для лучшего качества: (8k, ultra realistic, highly detailed, cinematic lighting)\n",
        "prompt = \"woman armed with a revolver, 25 years old, ginger hair, black skirt, shocked expression, empty hospital hallway, eerie atmosphere, 8k, ultra realistic, highly detailed, cinematic lighting\"\n",
        "negs=    \"ugly face, canvas frame, cartoon, 3d, disfigured, bad art, deformed, extra limbs, close up, b&w, wierd colors, blurry, duplicate, morbid, mutilated, out of frame, extra fingers, mutated hands, poorly drawn hands, poorly drawn face, mutation, deformed, ugly, blurry, bad anatomy, bad proportions, extra limbs, cloned face, disfigured, out of frame, ugly, extra limbs, bad anatomy, gross proportions, malformed limbs, missing arms, missing legs, extra arms, extra legs, mutated hands, fused fingers, too many fingers, long neck, Photoshop, video game, ugly, tiling, poorly drawn hands, poorly drawn feet, poorly drawn face, out of frame, mutation, mutated, extra limbs, extra legs, extra arms, disfigured, deformed, cross-eye, body out of frame, blurry, bad art, bad anatomy, 3d render\"\n",
        "\n",
        "width=      512\n",
        "height=     512\n",
        "steps=      25\n",
        "gscale=     7.5\n",
        "randomness= True  # <-- если значение True, то генерация будет происходить с рандомным сидом, если False, то с сидом указанным в переменной seed\n",
        "seed=       0\n",
        "############################################################\n",
        "\n",
        "# Генерация картинки\n",
        "\n",
        "print(\"###############\")\n",
        "print(\"Текущая модель Stable Diffusion: \" + current_checkpoint)\n",
        "print(\"Промпт: \" + prompt)\n",
        "print(\"Негативный промпт: \" + negs)\n",
        "print(\"Разрешение: \" + str(width) + \"x\" + str(height))\n",
        "\n",
        "if not randomness:\n",
        "  generator = torch.Generator(current_device).manual_seed(seed)\n",
        "  print(\"Seed этого изображения: \" + str(seed) + \"\\n###############\")\n",
        "elif randomness:\n",
        "  current_seed = torch.Generator(current_device).seed()\n",
        "  generator = torch.Generator(current_device).manual_seed(current_seed)\n",
        "  print(\"Seed этого изображения: \" + str(current_seed) + \"\\n###############\")\n",
        "\n",
        "image = pipe(prompt, height=height, width=width, num_inference_steps=steps, guidance_scale=gscale, negative_prompt=negs, generator=generator, num_images_per_prompt=2).images[0]\n",
        "\n",
        "# Вывод и сохрарнение результата\n",
        "\n",
        "if use_gdrive:\n",
        "  file_name = prompt + \" \" + str(current_seed) + \".png\"\n",
        "  temp_path = \"/tmp/image.png\"\n",
        "  image_pil = Image.fromarray(np.uint8(image))\n",
        "  image_pil.save(temp_path, \"PNG\")\n",
        "  new_file_name = \"/content/gdrive/MyDrive/SDOutput/\" + file_name\n",
        "  !cp $temp_path /content/gdrive/MyDrive/SDOutput\n",
        "  os.rename(\"/content/gdrive/MyDrive/SDOutput/image.png\", new_file_name)\n",
        "  print(\"Сохранено: /content/gdrive/MyDrive/SDOutput/\" + file_name)\n",
        "\n",
        "image"
      ],
      "metadata": {
        "id": "23njihNOG-du"
      },
      "execution_count": null,
      "outputs": []
    }
  ]
}